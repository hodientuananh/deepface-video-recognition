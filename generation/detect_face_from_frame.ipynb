{
 "cells": [
  {
   "cell_type": "markdown",
   "id": "093921e1",
   "metadata": {},
   "source": [
    "## Set environment"
   ]
  },
  {
   "cell_type": "code",
   "execution_count": 1,
   "id": "82248862",
   "metadata": {},
   "outputs": [
    {
     "name": "stdout",
     "output_type": "stream",
     "text": [
      "[Errno 2] No such file or directory: 'data_generation'\n",
      "/mnt/d/deepface-video-recognition/data_generation\n"
     ]
    },
    {
     "name": "stderr",
     "output_type": "stream",
     "text": [
      "/home/huy/.local/lib/python3.11/site-packages/IPython/core/magics/osm.py:393: UserWarning: This is now an optional IPython functionality, using bookmarks requires you to install the `pickleshare` library.\n",
      "  bkms = self.shell.db.get('bookmarks', {})\n"
     ]
    }
   ],
   "source": [
    "%cd data_generation"
   ]
  },
  {
   "cell_type": "markdown",
   "id": "5f2edbdd",
   "metadata": {},
   "source": [
    "## Import lib"
   ]
  },
  {
   "cell_type": "code",
   "execution_count": 2,
   "id": "685c2e5a",
   "metadata": {
    "colab": {
     "base_uri": "https://localhost:8080/"
    },
    "executionInfo": {
     "elapsed": 1020,
     "status": "ok",
     "timestamp": 1719563691791,
     "user": {
      "displayName": "Tuan Anh Ho Dien",
      "userId": "03796388804973013243"
     },
     "user_tz": -420
    },
    "id": "685c2e5a",
    "outputId": "5e6f7159-5b6d-4949-be6c-e3ad0a2567c6"
   },
   "outputs": [
    {
     "name": "stderr",
     "output_type": "stream",
     "text": [
      "2024-08-13 13:38:32.263511: E tensorflow/compiler/xla/stream_executor/cuda/cuda_dnn.cc:9342] Unable to register cuDNN factory: Attempting to register factory for plugin cuDNN when one has already been registered\n",
      "2024-08-13 13:38:32.263588: E tensorflow/compiler/xla/stream_executor/cuda/cuda_fft.cc:609] Unable to register cuFFT factory: Attempting to register factory for plugin cuFFT when one has already been registered\n",
      "2024-08-13 13:38:32.263624: E tensorflow/compiler/xla/stream_executor/cuda/cuda_blas.cc:1518] Unable to register cuBLAS factory: Attempting to register factory for plugin cuBLAS when one has already been registered\n",
      "2024-08-13 13:38:34.043427: W tensorflow/compiler/tf2tensorrt/utils/py_utils.cc:38] TF-TRT Warning: Could not find TensorRT\n"
     ]
    }
   ],
   "source": [
    "import cv2\n",
    "import os\n",
    "import concurrent.futures\n",
    "import queue\n",
    "import threading\n",
    "import pickle\n",
    "import matplotlib.pyplot as plt\n",
    "\n",
    "from deepface import DeepFace"
   ]
  },
  {
   "cell_type": "markdown",
   "id": "29ed770a",
   "metadata": {},
   "source": [
    "## Detect Faces"
   ]
  },
  {
   "cell_type": "code",
   "execution_count": 3,
   "id": "b445fc27",
   "metadata": {},
   "outputs": [],
   "source": [
    "movie = \"like_me\"\n",
    "# det_faces = ['fastmtcnn', 'opencv', 'retinaface']\n",
    "# movie_det = (\n",
    "    # (f\"{movie}\", \"fastmtcnn\"),\n",
    "    # (f\"{movie}\", \"opencv\"),\n",
    "    # (f\"{movie}\", \"retinaface\"),\n",
    "    # (\"Calloused_Hands\", \"fastmtcnn\"),\n",
    "    # (\"Calloused_Hands\", \"opencv\"),\n",
    "    # (\"Calloused_Hands\", \"retinaface\"),\n",
    "    # (\"Memphis\", \"fastmtcnn\"),\n",
    "    # (\"Memphis\", \"opencv\"),\n",
    "    # (\"Memphis\", \"retinaface\"),\n",
    "    # (\"Liberty_Kid\", \"fastmtcnn\"),\n",
    "    # (\"Liberty_Kid\", \"opencv\"),\n",
    "    # (\"Liberty_Kid\", \"retinaface\"),\n",
    "    # (\"like_me\", \"fastmtcnn\"),\n",
    "    # (\"like_me\", \"opencv\"),\n",
    "    # (\"like_me\", \"retinaface\"),\n",
    "    # (\"losing_ground\", \"fastmtcnn\"),\n",
    "    # (\"losing_ground\", \"opencv\"),\n",
    "    # (\"losing_ground\", \"retinaface\"),\n",
    "# )\n",
    "workers = 5\n",
    "frame_source_folder = \"frames\"\n",
    "faces_des_folder = \"det_faces\"\n"
   ]
  },
  {
   "cell_type": "code",
   "execution_count": 5,
   "id": "kVNut-CubwLu",
   "metadata": {
    "id": "kVNut-CubwLu"
   },
   "outputs": [],
   "source": [
    "def extract_faces_parallel(img, des_file_path, backend):\n",
    "    extract_face_file_path = os.path.splitext(des_file_path)[0] + f\"-det_{backend}.pkl\"\n",
    "    if os.path.exists(extract_face_file_path):\n",
    "        # os.remove(extract_face_file_path)\n",
    "        # print(f\"Deleted face detection: {extract_face_file_path}\")\n",
    "        print(f\"Face detection already exists: {extract_face_file_path}\")\n",
    "        return\n",
    "    # Detect faces using DeepFace\n",
    "    extract_face_deepface = DeepFace.extract_faces(img, detector_backend=backend, enforce_detection=False)\n",
    "    extraction_face_data = []\n",
    "    img_height, img_width = img.shape[:2]\n",
    "    for extraction in extract_face_deepface:  \n",
    "        if extraction['confidence'] >= 0.90:\n",
    "            # extraction_face_data.append(extraction['facial_area'])\n",
    "            face = extraction['facial_area']\n",
    "            x = max(face['x'], 0)\n",
    "            y = max(face['y'], 0)\n",
    "            w = min(face['w'], img_width - x)\n",
    "            h = min(face['h'], img_height - y)\n",
    "            # Crop the face region\n",
    "            cropped_face = img[y:y+h, x:x+w]\n",
    "            extraction_face_data.append(cropped_face)\n",
    "\n",
    "    with open(extract_face_file_path, 'wb') as f:\n",
    "        pickle.dump(extraction_face_data, f)\n",
    "        print(f\"Created face detection: {extract_face_file_path}\")"
   ]
  },
  {
   "cell_type": "code",
   "execution_count": 6,
   "id": "bf12679e",
   "metadata": {
    "id": "bf12679e"
   },
   "outputs": [],
   "source": [
    "def detect_face_from_img(movie, backend):\n",
    "    global frame_source_folder, faces_des_folder\n",
    "    imgs_source_dir = f\"../{frame_source_folder}/{movie}/\"\n",
    "    faces_des_dir = f\"../{faces_des_folder}/{movie}/\"\n",
    "    # Traverse all files and subfolders in the source folder\n",
    "    for root, _, files in os.walk(imgs_source_dir):\n",
    "        # Create a ThreadPoolExecutor with the number of CPU cores\n",
    "        with concurrent.futures.ThreadPoolExecutor(max_workers=workers) as executor:\n",
    "            for file in files:\n",
    "                # Construct source file path\n",
    "                source_file_path = os.path.join(root, file)\n",
    "\n",
    "                # Construct destination file path\n",
    "                des_file_path = os.path.join(faces_des_dir, os.path.relpath(source_file_path, imgs_source_dir))\n",
    "                des_dir = os.path.dirname(des_file_path)\n",
    "                os.makedirs(des_dir, exist_ok=True)\n",
    "                if source_file_path.lower().endswith('.jpg'):\n",
    "                    img = cv2.imread(source_file_path)\n",
    "\n",
    "                    # Use ThreadPoolExecutor to parallelize the face detection task\n",
    "                    executor.submit(extract_faces_parallel, img, des_file_path, backend)\n"
   ]
  },
  {
   "cell_type": "code",
   "execution_count": null,
   "id": "b6f68e15-7a90-47aa-b953-ec5c6d99ce45",
   "metadata": {
    "scrolled": true
   },
   "outputs": [],
   "source": [
    "detect_face_from_img(movie, \"fastmtcnn\")"
   ]
  },
  {
   "cell_type": "code",
   "execution_count": null,
   "id": "6f0ea520-0429-4ed5-8362-761b03b72355",
   "metadata": {},
   "outputs": [],
   "source": [
    "detect_face_from_img(movie, \"opencv\")"
   ]
  },
  {
   "cell_type": "code",
   "execution_count": null,
   "id": "eea6245c-442a-412c-bcd5-7d6ced53981a",
   "metadata": {},
   "outputs": [],
   "source": [
    "detect_face_from_img(movie, \"retinaface\")"
   ]
  },
  {
   "cell_type": "code",
   "execution_count": null,
   "id": "f8aa32f5-55a7-460f-b218-4a12881fb8f2",
   "metadata": {},
   "outputs": [],
   "source": [
    "print(\"Done\")"
   ]
  },
  {
   "cell_type": "code",
   "execution_count": null,
   "id": "f97d8672",
   "metadata": {},
   "outputs": [],
   "source": [
    "# def print_incresement(movie, backend):\n",
    "#     print(f\"Movie: {movie}, Backend: {backend}\")\n",
    "# push_task_to_queue([(print_incresement, (movie, backend))for (movie, backend) in movie_det])"
   ]
  }
 ],
 "metadata": {
  "colab": {
   "machine_shape": "hm",
   "provenance": []
  },
  "kernelspec": {
   "display_name": "Python 3 (ipykernel)",
   "language": "python",
   "name": "python3"
  },
  "language_info": {
   "codemirror_mode": {
    "name": "ipython",
    "version": 3
   },
   "file_extension": ".py",
   "mimetype": "text/x-python",
   "name": "python",
   "nbconvert_exporter": "python",
   "pygments_lexer": "ipython3",
   "version": "3.11.9"
  }
 },
 "nbformat": 4,
 "nbformat_minor": 5
}
