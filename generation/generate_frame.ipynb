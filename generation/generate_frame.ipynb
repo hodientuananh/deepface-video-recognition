{
 "cells": [
  {
   "cell_type": "code",
   "execution_count": 1,
   "id": "e4ab84c0",
   "metadata": {},
   "outputs": [],
   "source": [
    "import os\n",
    "import cv2"
   ]
  },
  {
   "cell_type": "code",
   "execution_count": 2,
   "id": "c77698e6",
   "metadata": {},
   "outputs": [],
   "source": [
    "def extract_frames_5fps(source_folder, des_folder):\n",
    "    global cv2\n",
    "    # Traverse to all files and subfolder in source folder\n",
    "    for root, _, files in os.walk(source_folder):\n",
    "        for file in files:\n",
    "            # Construct source file path\n",
    "            source_file_path = os.path.join(root, file)\n",
    "            # Construct destination file path\n",
    "            des_file_path = os.path.join(des_folder, os.path.relpath(source_file_path, source_folder))\n",
    "            des_dir = os.path.dirname(des_folder)\n",
    "#             os.makedirs(des_dir, exist_ok=True)\n",
    "            output_folder = os.path.splitext(des_file_path)[0]\n",
    "            pre_frame_name = os.path.basename(output_folder)\n",
    "            \n",
    "            os.makedirs(output_folder, exist_ok=True)\n",
    "            \n",
    "            cap = cv2.VideoCapture(source_file_path)\n",
    "            # Check if video opened successfully\n",
    "            if not cap.isOpened():\n",
    "                print(\"Error opening video capture\")\n",
    "                exit()\n",
    "\n",
    "            # Get video fps (might not be accurate for variable fps videos)\n",
    "            fps = cap.get(cv2.CAP_PROP_FPS)\n",
    "\n",
    "            # Define desired frame extraction rate (5 fps in this case)\n",
    "            target_fps = 5\n",
    "\n",
    "            # Calculate frame skip interval based on target fps\n",
    "            frame_skip = int(fps / target_fps)  # Integer division for gaps between frames\n",
    "\n",
    "            frame_count = 0\n",
    "            while True:\n",
    "                frame_format = 'frame_%02d.jpg'\n",
    "                ret, frame = cap.read()\n",
    "\n",
    "                #No more frames available\n",
    "                if not ret:\n",
    "                    break\n",
    "\n",
    "                # Extract frame only if the frame count is a multiple of skip interval\n",
    "                if frame_count % frame_skip == 0:\n",
    "#                     Save frame as an image\n",
    "                    cv2.imwrite(f\"{output_folder}/{pre_frame_name}{'-'}{frame_format % frame_count}\", frame)\n",
    "#                     print(f\"{output_folder}/{pre_frame_name}{'-'}{frame_format % frame_count}\")\n",
    "\n",
    "                frame_count += 1\n",
    "\n",
    "            cap.release()\n",
    "            print(f\"Extracted {frame_count} frames to {output_folder} (at approximately {target_fps} fps)\")\n",
    "            \n",
    "            "
   ]
  },
  {
   "cell_type": "code",
   "execution_count": 3,
   "id": "4eb3786c",
   "metadata": {},
   "outputs": [],
   "source": [
    "shots_source_folder = \".././shots/\"\n",
    "frames_des_folder = \".././frames\""
   ]
  },
  {
   "cell_type": "code",
   "execution_count": null,
   "id": "717fd679-39fd-4039-a073-17662e8df3a4",
   "metadata": {
    "scrolled": true
   },
   "outputs": [],
   "source": [
    "extract_frames_5fps(shots_source_folder, frames_des_folder)"
   ]
  }
 ],
 "metadata": {
  "kernelspec": {
   "display_name": "Python 3 (ipykernel)",
   "language": "python",
   "name": "python3"
  },
  "language_info": {
   "codemirror_mode": {
    "name": "ipython",
    "version": 3
   },
   "file_extension": ".py",
   "mimetype": "text/x-python",
   "name": "python",
   "nbconvert_exporter": "python",
   "pygments_lexer": "ipython3",
   "version": "3.11.9"
  }
 },
 "nbformat": 4,
 "nbformat_minor": 5
}
