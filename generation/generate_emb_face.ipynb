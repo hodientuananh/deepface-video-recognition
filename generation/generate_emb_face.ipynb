{
 "cells": [
  {
   "cell_type": "markdown",
   "id": "779d434c-b454-4973-b2f8-9e18f5a66625",
   "metadata": {},
   "source": [
    "# DEEPFACE EMBEDDING AND SAVE"
   ]
  },
  {
   "cell_type": "markdown",
   "id": "5f61f173",
   "metadata": {},
   "source": [
    "## Move correct folder"
   ]
  },
  {
   "cell_type": "code",
   "execution_count": 14,
   "id": "18b17e68",
   "metadata": {},
   "outputs": [
    {
     "name": "stdout",
     "output_type": "stream",
     "text": [
      "/mnt/d/deepface-video-recognition/data_generation\n"
     ]
    }
   ],
   "source": [
    "%cd data_generation"
   ]
  },
  {
   "cell_type": "markdown",
   "id": "c4ea3741",
   "metadata": {},
   "source": [
    "## IMPORT LIB"
   ]
  },
  {
   "cell_type": "code",
   "execution_count": 1,
   "id": "ecddc5df-15ed-4b47-9baa-6eff687712ba",
   "metadata": {
    "scrolled": true
   },
   "outputs": [
    {
     "name": "stderr",
     "output_type": "stream",
     "text": [
      "2024-09-17 12:09:32.442540: E tensorflow/compiler/xla/stream_executor/cuda/cuda_dnn.cc:9342] Unable to register cuDNN factory: Attempting to register factory for plugin cuDNN when one has already been registered\n",
      "2024-09-17 12:09:32.442613: E tensorflow/compiler/xla/stream_executor/cuda/cuda_fft.cc:609] Unable to register cuFFT factory: Attempting to register factory for plugin cuFFT when one has already been registered\n",
      "2024-09-17 12:09:32.445442: E tensorflow/compiler/xla/stream_executor/cuda/cuda_blas.cc:1518] Unable to register cuBLAS factory: Attempting to register factory for plugin cuBLAS when one has already been registered\n",
      "2024-09-17 12:09:34.937302: W tensorflow/compiler/tf2tensorrt/utils/py_utils.cc:38] TF-TRT Warning: Could not find TensorRT\n"
     ]
    }
   ],
   "source": [
    "from deepface import DeepFace\n",
    "\n",
    "import concurrent.futures\n",
    "import os\n",
    "import pickle\n",
    "import numpy as np\n",
    "import faiss\n",
    "import queue\n",
    "import threading\n",
    "import cv2\n",
    "import matplotlib.pyplot as plt"
   ]
  },
  {
   "cell_type": "markdown",
   "id": "e9d9edfb-0197-47c7-89e1-6fbb74684778",
   "metadata": {},
   "source": [
    "## Initial Parameters and Function"
   ]
  },
  {
   "cell_type": "code",
   "execution_count": 8,
   "id": "4932ea00-3917-4a41-b19f-070446d22ec8",
   "metadata": {},
   "outputs": [],
   "source": [
    "fixed_dim = 2622\n",
    "workers = 5\n",
    "movies = ['Calloused_Hands', 'Liberty_Kid', 'like_me', 'losing_ground', 'Memphis']\n",
    "movie = \"Liberty_Kid\"\n",
    "# detect_faces_folder = \"det_faces\"\n",
    "character_query_folder = \"character_query\"\n",
    "character_emb_query_folder = \"character_emb_query\"\n",
    "faces_folder = \"faces\"\n",
    "faces_emb_folder = \"faces_emb\"\n",
    "emb_folder_mapping = {\n",
    "    \"ArcFace\": \"ArcFace\",\n",
    "    \"VGG-Face\": \"VggFace\",\n",
    "    \"Facenet\": \"FaceNet\",\n",
    "    \"GhostFaceNet\": \"GhostFaceNet\"\n",
    "}\n",
    "\n",
    "embs = [\"ArcFace\", \"VGG-Face\", \"Facenet\", \"GhostFaceNet\"]"
   ]
  },
  {
   "cell_type": "markdown",
   "id": "ade7f12b",
   "metadata": {},
   "source": [
    "## Embedding Function"
   ]
  },
  {
   "cell_type": "code",
   "execution_count": 3,
   "id": "f79e865d",
   "metadata": {},
   "outputs": [],
   "source": [
    "def create_file_path(source_file_path, source_folder, destination_folder):\n",
    "    # Construct destination file path\n",
    "    destination_file_path = os.path.join(destination_folder, os.path.relpath(source_file_path, source_folder))\n",
    "\n",
    "    destination_dir = os.path.dirname(destination_file_path)\n",
    "    # Create destination folder if not exists\n",
    "    os.makedirs(destination_dir, exist_ok=True)\n",
    "    return destination_file_path"
   ]
  },
  {
   "cell_type": "code",
   "execution_count": 4,
   "id": "909a998a",
   "metadata": {},
   "outputs": [],
   "source": [
    "def pad_embedding(embedding, target_dim):\n",
    "    \"\"\"Pad or truncate embedding to the target dimension.\"\"\"\n",
    "    if len(embedding) >= target_dim:\n",
    "        return embedding[:target_dim]\n",
    "    else:\n",
    "        padding = np.zeros(target_dim - len(embedding))\n",
    "        return np.concatenate((embedding, padding))"
   ]
  },
  {
   "cell_type": "code",
   "execution_count": 5,
   "id": "639d1f79-5948-4371-bf78-ca686cdd904f",
   "metadata": {},
   "outputs": [],
   "source": [
    "def attach_model_to_path(file_name, model):\n",
    "    if \"det_opencv\" in file_name:\n",
    "        new_filename = file_name.replace(\"det_opencv\", f\"det_opencv-emb_{model}\")\n",
    "    elif \"det_fastmtcnn\" in file_name:\n",
    "        new_filename = file_name.replace(\"det_fastmtcnn\", f\"det_fastmtcnn-emb_{model}\")\n",
    "    elif \"det_retinaface\" in file_name:\n",
    "        new_filename = file_name.replace(\"det_retinaface\", f\"det_retinaface-emb_{model}\")\n",
    "    else:\n",
    "        new_filename = file_name\n",
    "    return new_filename"
   ]
  },
  {
   "cell_type": "code",
   "execution_count": 6,
   "id": "323b5558-f262-4b22-9afc-474e856e482f",
   "metadata": {},
   "outputs": [],
   "source": [
    "def extract_emb_parallel(source_file_path, model_emb_file_path, model):\n",
    "    global fixed_dim\n",
    "    embeddings = DeepFace.represent(img_path = source_file_path,\n",
    "                                        model_name = model,\n",
    "                                       enforce_detection = False)\n",
    "    original_embedding = np.array(embeddings[0]['embedding'], dtype=np.float32)\n",
    "    padded_embedding = pad_embedding(original_embedding, fixed_dim)\n",
    "    padded_embedding = np.expand_dims(padded_embedding, axis=0)  # Add batch dimension\n",
    "    with open(model_emb_file_path, \"wb\") as f:\n",
    "        pickle.dump(padded_embedding, f)\n",
    "        print(f\"Created embeddings: {source_file_path} -> {model_emb_file_path}\")"
   ]
  },
  {
   "cell_type": "code",
   "execution_count": 7,
   "id": "8de09e98-4e61-4c64-a846-c41787609fae",
   "metadata": {},
   "outputs": [],
   "source": [
    "def extract_emb(source_folder: str, des_em_folder: str, model: str):\n",
    "    # Traverse to all files and subfolder in source folder\n",
    "    for root, _, files in os.walk(source_folder):\n",
    "        with concurrent.futures.ThreadPoolExecutor(max_workers=workers) as executor:\n",
    "            for file in files:\n",
    "                # Construct source file path\n",
    "                source_file_path = os.path.join(root, file)\n",
    "                emb_file_path = create_file_path(source_file_path, source_folder, des_em_folder)\n",
    "                model_emb_file_path = attach_model_to_path(os.path.splitext(emb_file_path)[0] +  \".pkl\", emb_folder_mapping[model])\n",
    "                if source_file_path.lower().endswith('.jpg') and os.path.exists(model_emb_file_path) == False:\n",
    "                    executor.submit(extract_emb_parallel, source_file_path, model_emb_file_path, model)\n",
    "                    # extract_emb_parallel(source_file_path, model_emb_file_path, model)\n",
    "                else:\n",
    "                    print(f\"{source_file_path} not end with jpg or {model_emb_file_path} exists\")"
   ]
  },
  {
   "cell_type": "markdown",
   "id": "dbd800c1-b13b-4f10-9b0c-c3eeff3c7d3f",
   "metadata": {},
   "source": [
    "## Create character faces embedding"
   ]
  },
  {
   "cell_type": "code",
   "execution_count": 9,
   "id": "8c5dd6bc-3e24-4149-876f-c98714509411",
   "metadata": {},
   "outputs": [],
   "source": [
    "def create_option_faces_emb(model):\n",
    "    global movie, character_query_folder, character_emb_query_folder\n",
    "    folder = emb_folder_mapping[model]\n",
    "    source_det_faces = f'../{character_query_folder}/{movie}/'\n",
    "    des_em_char = f\"../{character_emb_query_folder}/{movie}/{folder}/\"\n",
    "    extract_emb(source_det_faces, des_em_char, model)"
   ]
  },
  {
   "cell_type": "code",
   "execution_count": 15,
   "id": "3a115d95",
   "metadata": {},
   "outputs": [
    {
     "name": "stdout",
     "output_type": "stream",
     "text": [
      "../character_query/Liberty_Kid/Derrick/Derrick_1.jpg not end with jpg or ../character_emb_query/Liberty_Kid/ArcFace/Derrick/Derrick_1.pkl exists\n",
      "../character_query/Liberty_Kid/Derrick/Derrick_2.jpg not end with jpg or ../character_emb_query/Liberty_Kid/ArcFace/Derrick/Derrick_2.pkl exists\n",
      "../character_query/Liberty_Kid/Derrick/Derrick_3.jpg not end with jpg or ../character_emb_query/Liberty_Kid/ArcFace/Derrick/Derrick_3.pkl exists\n",
      "../character_query/Liberty_Kid/Derrick/Derrick_4.jpg not end with jpg or ../character_emb_query/Liberty_Kid/ArcFace/Derrick/Derrick_4.pkl exists\n",
      "../character_query/Liberty_Kid/Derrick/Derrick_5.jpg not end with jpg or ../character_emb_query/Liberty_Kid/ArcFace/Derrick/Derrick_5.pkl exists\n",
      "../character_query/Liberty_Kid/Derrick/Derrick_6.jpg not end with jpg or ../character_emb_query/Liberty_Kid/ArcFace/Derrick/Derrick_6.pkl exists\n",
      "../character_query/Liberty_Kid/Derrick/Derrick_7.jpg not end with jpg or ../character_emb_query/Liberty_Kid/ArcFace/Derrick/Derrick_7.pkl exists\n"
     ]
    }
   ],
   "source": [
    "create_option_faces_emb(\"ArcFace\")"
   ]
  },
  {
   "cell_type": "code",
   "execution_count": 16,
   "id": "5e061982",
   "metadata": {},
   "outputs": [
    {
     "name": "stderr",
     "output_type": "stream",
     "text": [
      "2024-09-17 12:11:50.383463: I tensorflow/compiler/xla/stream_executor/cuda/cuda_gpu_executor.cc:880] could not open file to read NUMA node: /sys/bus/pci/devices/0000:03:00.0/numa_node\n",
      "Your kernel may have been built without NUMA support.\n",
      "2024-09-17 12:11:50.789031: I tensorflow/compiler/xla/stream_executor/cuda/cuda_gpu_executor.cc:880] could not open file to read NUMA node: /sys/bus/pci/devices/0000:03:00.0/numa_node\n",
      "Your kernel may have been built without NUMA support.\n",
      "2024-09-17 12:11:50.789461: I tensorflow/compiler/xla/stream_executor/cuda/cuda_gpu_executor.cc:880] could not open file to read NUMA node: /sys/bus/pci/devices/0000:03:00.0/numa_node\n",
      "Your kernel may have been built without NUMA support.\n",
      "2024-09-17 12:11:50.797734: I tensorflow/compiler/xla/stream_executor/cuda/cuda_gpu_executor.cc:880] could not open file to read NUMA node: /sys/bus/pci/devices/0000:03:00.0/numa_node\n",
      "Your kernel may have been built without NUMA support.\n",
      "2024-09-17 12:11:50.798109: I tensorflow/compiler/xla/stream_executor/cuda/cuda_gpu_executor.cc:880] could not open file to read NUMA node: /sys/bus/pci/devices/0000:03:00.0/numa_node\n",
      "Your kernel may have been built without NUMA support.\n",
      "2024-09-17 12:11:50.798526: I tensorflow/compiler/xla/stream_executor/cuda/cuda_gpu_executor.cc:880] could not open file to read NUMA node: /sys/bus/pci/devices/0000:03:00.0/numa_node\n",
      "Your kernel may have been built without NUMA support.\n",
      "2024-09-17 12:11:52.741551: I tensorflow/compiler/xla/stream_executor/cuda/cuda_gpu_executor.cc:880] could not open file to read NUMA node: /sys/bus/pci/devices/0000:03:00.0/numa_node\n",
      "Your kernel may have been built without NUMA support.\n",
      "2024-09-17 12:11:52.741933: I tensorflow/compiler/xla/stream_executor/cuda/cuda_gpu_executor.cc:880] could not open file to read NUMA node: /sys/bus/pci/devices/0000:03:00.0/numa_node\n",
      "Your kernel may have been built without NUMA support.\n",
      "2024-09-17 12:11:52.741954: I tensorflow/core/common_runtime/gpu/gpu_device.cc:1977] Could not identify NUMA node of platform GPU id 0, defaulting to 0.  Your kernel may not have been built with NUMA support.\n",
      "2024-09-17 12:11:52.741979: W tensorflow/core/common_runtime/gpu/gpu_bfc_allocator.cc:47] Overriding orig_value setting because the TF_FORCE_GPU_ALLOW_GROWTH environment variable is set. Original config value was 0.\n",
      "2024-09-17 12:11:52.742451: I tensorflow/compiler/xla/stream_executor/cuda/cuda_gpu_executor.cc:880] could not open file to read NUMA node: /sys/bus/pci/devices/0000:03:00.0/numa_node\n",
      "Your kernel may have been built without NUMA support.\n",
      "2024-09-17 12:11:52.742506: I tensorflow/core/common_runtime/gpu/gpu_device.cc:1886] Created device /job:localhost/replica:0/task:0/device:GPU:0 with 6691 MB memory:  -> device: 0, name: Quadro M4000, pci bus id: 0000:03:00.0, compute capability: 5.2\n",
      "2024-09-17 12:12:01.234770: I tensorflow/compiler/xla/stream_executor/cuda/cuda_dnn.cc:442] Loaded cuDNN version 8902\n",
      "2024-09-17 12:12:04.711173: W tensorflow/tsl/framework/bfc_allocator.cc:296] Allocator (GPU_0_bfc) ran out of memory trying to allocate 898.56MiB with freed_by_count=0. The caller indicates that this is not a failure, but this may mean that there could be performance gains if more memory were available.\n",
      "2024-09-17 12:12:04.711300: W tensorflow/tsl/framework/bfc_allocator.cc:296] Allocator (GPU_0_bfc) ran out of memory trying to allocate 2.06GiB with freed_by_count=0. The caller indicates that this is not a failure, but this may mean that there could be performance gains if more memory were available.\n",
      "2024-09-17 12:12:04.757469: W tensorflow/tsl/framework/bfc_allocator.cc:296] Allocator (GPU_0_bfc) ran out of memory trying to allocate 2.06GiB with freed_by_count=0. The caller indicates that this is not a failure, but this may mean that there could be performance gains if more memory were available.\n",
      "2024-09-17 12:12:04.939091: W tensorflow/tsl/framework/bfc_allocator.cc:296] Allocator (GPU_0_bfc) ran out of memory trying to allocate 2.06GiB with freed_by_count=0. The caller indicates that this is not a failure, but this may mean that there could be performance gains if more memory were available.\n"
     ]
    },
    {
     "name": "stdout",
     "output_type": "stream",
     "text": [
      "Created embeddings: ../character_query/Liberty_Kid/Derrick/Derrick_2.jpg -> ../character_emb_query/Liberty_Kid/VggFace/Derrick/Derrick_2.pkl\n",
      "Created embeddings: ../character_query/Liberty_Kid/Derrick/Derrick_4.jpg -> ../character_emb_query/Liberty_Kid/VggFace/Derrick/Derrick_4.pkl\n",
      "Created embeddings: ../character_query/Liberty_Kid/Derrick/Derrick_1.jpg -> ../character_emb_query/Liberty_Kid/VggFace/Derrick/Derrick_1.pkl\n",
      "Created embeddings: ../character_query/Liberty_Kid/Derrick/Derrick_5.jpg -> ../character_emb_query/Liberty_Kid/VggFace/Derrick/Derrick_5.pkl\n",
      "Created embeddings: ../character_query/Liberty_Kid/Derrick/Derrick_3.jpg -> ../character_emb_query/Liberty_Kid/VggFace/Derrick/Derrick_3.pkl\n",
      "Created embeddings: ../character_query/Liberty_Kid/Derrick/Derrick_6.jpg -> ../character_emb_query/Liberty_Kid/VggFace/Derrick/Derrick_6.pkl\n",
      "Created embeddings: ../character_query/Liberty_Kid/Derrick/Derrick_7.jpg -> ../character_emb_query/Liberty_Kid/VggFace/Derrick/Derrick_7.pkl\n"
     ]
    }
   ],
   "source": [
    "create_option_faces_emb(\"VGG-Face\")"
   ]
  },
  {
   "cell_type": "code",
   "execution_count": 17,
   "id": "a22451a1",
   "metadata": {},
   "outputs": [
    {
     "name": "stdout",
     "output_type": "stream",
     "text": [
      "../character_query/Liberty_Kid/Derrick/Derrick_1.jpg not end with jpg or ../character_emb_query/Liberty_Kid/FaceNet/Derrick/Derrick_1.pkl exists\n",
      "../character_query/Liberty_Kid/Derrick/Derrick_2.jpg not end with jpg or ../character_emb_query/Liberty_Kid/FaceNet/Derrick/Derrick_2.pkl exists\n",
      "../character_query/Liberty_Kid/Derrick/Derrick_3.jpg not end with jpg or ../character_emb_query/Liberty_Kid/FaceNet/Derrick/Derrick_3.pkl exists\n",
      "../character_query/Liberty_Kid/Derrick/Derrick_4.jpg not end with jpg or ../character_emb_query/Liberty_Kid/FaceNet/Derrick/Derrick_4.pkl exists\n",
      "../character_query/Liberty_Kid/Derrick/Derrick_5.jpg not end with jpg or ../character_emb_query/Liberty_Kid/FaceNet/Derrick/Derrick_5.pkl exists\n",
      "../character_query/Liberty_Kid/Derrick/Derrick_6.jpg not end with jpg or ../character_emb_query/Liberty_Kid/FaceNet/Derrick/Derrick_6.pkl exists\n",
      "../character_query/Liberty_Kid/Derrick/Derrick_7.jpg not end with jpg or ../character_emb_query/Liberty_Kid/FaceNet/Derrick/Derrick_7.pkl exists\n"
     ]
    }
   ],
   "source": [
    "create_option_faces_emb(\"Facenet\")"
   ]
  },
  {
   "cell_type": "code",
   "execution_count": 18,
   "id": "7db9f6a4",
   "metadata": {},
   "outputs": [
    {
     "name": "stdout",
     "output_type": "stream",
     "text": [
      "../character_query/Liberty_Kid/Derrick/Derrick_1.jpg not end with jpg or ../character_emb_query/Liberty_Kid/GhostFaceNet/Derrick/Derrick_1.pkl exists\n",
      "../character_query/Liberty_Kid/Derrick/Derrick_2.jpg not end with jpg or ../character_emb_query/Liberty_Kid/GhostFaceNet/Derrick/Derrick_2.pkl exists\n",
      "../character_query/Liberty_Kid/Derrick/Derrick_3.jpg not end with jpg or ../character_emb_query/Liberty_Kid/GhostFaceNet/Derrick/Derrick_3.pkl exists\n",
      "../character_query/Liberty_Kid/Derrick/Derrick_6.jpg not end with jpg or ../character_emb_query/Liberty_Kid/GhostFaceNet/Derrick/Derrick_6.pkl exists\n",
      "../character_query/Liberty_Kid/Derrick/Derrick_7.jpg not end with jpg or ../character_emb_query/Liberty_Kid/GhostFaceNet/Derrick/Derrick_7.pkl exists\n",
      "Created embeddings: ../character_query/Liberty_Kid/Derrick/Derrick_5.jpg -> ../character_emb_query/Liberty_Kid/GhostFaceNet/Derrick/Derrick_5.pkl\n",
      "Created embeddings: ../character_query/Liberty_Kid/Derrick/Derrick_4.jpg -> ../character_emb_query/Liberty_Kid/GhostFaceNet/Derrick/Derrick_4.pkl\n"
     ]
    }
   ],
   "source": [
    "create_option_faces_emb(\"GhostFaceNet\")"
   ]
  },
  {
   "cell_type": "markdown",
   "id": "77ee8b7a-538d-4a85-9e15-c5fe783f4e02",
   "metadata": {},
   "source": [
    "## Create all faces embedding"
   ]
  },
  {
   "cell_type": "code",
   "execution_count": 10,
   "id": "687420ea-3d65-445f-ad60-1b4557fcc5b5",
   "metadata": {
    "editable": true,
    "slideshow": {
     "slide_type": ""
    },
    "tags": []
   },
   "outputs": [],
   "source": [
    "def create_faces_emb(model):\n",
    "    DeepFace.represent(img_path = \"test.jpg\",\n",
    "                                    model_name = model,\n",
    "                                    enforce_detection = False)\n",
    "    global movie, faces_emb_folder, faces_folder\n",
    "    source_faces= f\"../{faces_folder}/{movie}\"\n",
    "    des_emb_faces = f\"../{faces_emb_folder}/{movie}\"\n",
    "    extract_emb(source_faces, des_emb_faces, model)"
   ]
  },
  {
   "cell_type": "code",
   "execution_count": null,
   "id": "96c1c667",
   "metadata": {
    "scrolled": true
   },
   "outputs": [],
   "source": [
    "# create_faces_emb(\"Facenet\")"
   ]
  },
  {
   "cell_type": "code",
   "execution_count": null,
   "id": "239cd274",
   "metadata": {},
   "outputs": [],
   "source": [
    "# create_faces_emb(\"VGG-Face\")"
   ]
  },
  {
   "cell_type": "code",
   "execution_count": null,
   "id": "89c29ef1",
   "metadata": {
    "scrolled": true
   },
   "outputs": [],
   "source": [
    "# create_faces_emb(\"ArcFace\")"
   ]
  },
  {
   "cell_type": "code",
   "execution_count": null,
   "id": "ec258755",
   "metadata": {},
   "outputs": [],
   "source": [
    "# create_faces_emb(\"GhostFaceNet\")"
   ]
  },
  {
   "cell_type": "code",
   "execution_count": null,
   "id": "d61a8551-75dd-448b-8391-2fc0c625925b",
   "metadata": {},
   "outputs": [],
   "source": [
    "# print(\"Done\")"
   ]
  }
 ],
 "metadata": {
  "kernelspec": {
   "display_name": "Python 3 (ipykernel)",
   "language": "python",
   "name": "python3"
  }
 },
 "nbformat": 4,
 "nbformat_minor": 5
}
