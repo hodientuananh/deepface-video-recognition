{
 "cells": [
  {
   "cell_type": "markdown",
   "id": "779d434c-b454-4973-b2f8-9e18f5a66625",
   "metadata": {},
   "source": [
    "# DEEPFACE EMBEDDING AND SAVE"
   ]
  },
  {
   "cell_type": "markdown",
   "id": "5f61f173",
   "metadata": {},
   "source": [
    "## Move correct folder"
   ]
  },
  {
   "cell_type": "code",
   "execution_count": 22,
   "id": "18b17e68",
   "metadata": {
    "scrolled": true
   },
   "outputs": [
    {
     "name": "stdout",
     "output_type": "stream",
     "text": [
      "[Errno 2] No such file or directory: 'data_generation'\n",
      "/mnt/d/deepface-video-recognition/data_generation\n"
     ]
    }
   ],
   "source": [
    "%cd data_generation"
   ]
  },
  {
   "cell_type": "markdown",
   "id": "c4ea3741",
   "metadata": {},
   "source": [
    "## IMPORT LIB"
   ]
  },
  {
   "cell_type": "code",
   "execution_count": 23,
   "id": "ecddc5df-15ed-4b47-9baa-6eff687712ba",
   "metadata": {
    "scrolled": true
   },
   "outputs": [],
   "source": [
    "from deepface import DeepFace\n",
    "\n",
    "import concurrent.futures\n",
    "import os\n",
    "import pickle\n",
    "import numpy as np\n",
    "import faiss\n",
    "import queue\n",
    "import threading\n",
    "import cv2\n",
    "import matplotlib.pyplot as plt"
   ]
  },
  {
   "cell_type": "markdown",
   "id": "e9d9edfb-0197-47c7-89e1-6fbb74684778",
   "metadata": {},
   "source": [
    "## Initial Parameters and Function"
   ]
  },
  {
   "cell_type": "code",
   "execution_count": 24,
   "id": "4932ea00-3917-4a41-b19f-070446d22ec8",
   "metadata": {},
   "outputs": [],
   "source": [
    "fixed_dim = 2622\n",
    "workers = 3\n",
    "movies = ['Calloused_Hands', 'Liberty_Kid', 'like_me', 'losing_ground', 'Memphis']\n",
    "movie = \"like_me\"\n",
    "detect_faces_folder = \"det_faces\"\n",
    "character_query_folder = \"character_query\"\n",
    "character_emb_query_folder = \"character_emb_query\"\n",
    "faces_folder = \"faces\"\n",
    "faces_emb_folder = \"faces_emb\"\n",
    "emb_folder_mapping = {\n",
    "    \"ArcFace\": \"ArcFace\",\n",
    "    \"VGG-Face\": \"VggFace\",\n",
    "    \"Facenet\": \"FaceNet\",\n",
    "    \"GhostFaceNet\": \"GhostFaceNet\"\n",
    "}\n",
    "\n",
    "embs = [\"ArcFace\", \"VGG-Face\", \"Facenet\", \"GhostFaceNet\"]"
   ]
  },
  {
   "cell_type": "markdown",
   "id": "ade7f12b",
   "metadata": {},
   "source": [
    "## Embedding Function"
   ]
  },
  {
   "cell_type": "code",
   "execution_count": 25,
   "id": "f79e865d",
   "metadata": {},
   "outputs": [],
   "source": [
    "def create_file_path(source_file_path, source_folder, destination_folder):\n",
    "    # Construct destination file path\n",
    "    destination_file_path = os.path.join(destination_folder, os.path.relpath(source_file_path, source_folder))\n",
    "\n",
    "    destination_dir = os.path.dirname(destination_file_path)\n",
    "    # Create destination folder if not exists\n",
    "    os.makedirs(destination_dir, exist_ok=True)\n",
    "    return destination_file_path"
   ]
  },
  {
   "cell_type": "code",
   "execution_count": 26,
   "id": "909a998a",
   "metadata": {},
   "outputs": [],
   "source": [
    "def pad_embedding(embedding, target_dim):\n",
    "    \"\"\"Pad or truncate embedding to the target dimension.\"\"\"\n",
    "    if len(embedding) >= target_dim:\n",
    "        return embedding[:target_dim]\n",
    "    else:\n",
    "        padding = np.zeros(target_dim - len(embedding))\n",
    "        return np.concatenate((embedding, padding))"
   ]
  },
  {
   "cell_type": "code",
   "execution_count": 27,
   "id": "639d1f79-5948-4371-bf78-ca686cdd904f",
   "metadata": {},
   "outputs": [],
   "source": [
    "def attach_model_to_path(file_name, model):\n",
    "    if \"det_opencv\" in file_name:\n",
    "        new_filename = file_name.replace(\"det_opencv\", f\"det_opencv-emb_{model}\")\n",
    "    elif \"det_fastmtcnn\" in file_name:\n",
    "        new_filename = file_name.replace(\"det_fastmtcnn\", f\"det_fastmtcnn-emb_{model}\")\n",
    "    elif \"det_retinaface\" in file_name:\n",
    "        new_filename = file_name.replace(\"det_retinaface\", f\"det_retinaface-emb_{model}\")\n",
    "    else:\n",
    "        new_filename = file_name\n",
    "    return new_filename"
   ]
  },
  {
   "cell_type": "code",
   "execution_count": 28,
   "id": "323b5558-f262-4b22-9afc-474e856e482f",
   "metadata": {},
   "outputs": [],
   "source": [
    "def extract_emb_parallel(source_file_path, model_emb_file_path, model):\n",
    "    global fixed_dim\n",
    "    embeddings = DeepFace.represent(img_path = source_file_path,\n",
    "                                        model_name = model,\n",
    "                                       enforce_detection = False)\n",
    "    original_embedding = np.array(embeddings[0]['embedding'], dtype=np.float32)\n",
    "    padded_embedding = pad_embedding(original_embedding, fixed_dim)\n",
    "    padded_embedding = np.expand_dims(padded_embedding, axis=0)  # Add batch dimension\n",
    "    with open(model_emb_file_path, \"wb\") as f:\n",
    "        pickle.dump(padded_embedding, f)\n",
    "        print(f\"Created embeddings: {source_file_path} -> {model_emb_file_path}\")"
   ]
  },
  {
   "cell_type": "code",
   "execution_count": 29,
   "id": "8de09e98-4e61-4c64-a846-c41787609fae",
   "metadata": {},
   "outputs": [],
   "source": [
    "def extract_emb(source_folder: str, des_em_folder: str, folder: str, model: str):\n",
    "    # Traverse to all files and subfolder in source folder\n",
    "    for root, _, files in os.walk(source_folder):\n",
    "        with ThreadPoolExecutor(max_workers=workers) as executor:\n",
    "            for file in files:\n",
    "                # Construct source file path\n",
    "                source_file_path = os.path.join(root, file)\n",
    "                emb_file_path = create_file_path(source_file_path, source_folder, des_em_folder)\n",
    "                model_emb_file_path = attach_model_to_path(os.path.splitext(emb_file_path)[0] +  \".pkl\", model)\n",
    "                if source_file_path.lower().endswith('.jpg') and os.path.exists(model_emb_file_path) == False:\n",
    "                    executor.submit(extract_emb_parallel, source_file_path, model_emb_file_path, model)\n",
    "                else:\n",
    "                    print(f\"{source_file_path} not end with jpg or {model_emb_file_path} exists\")"
   ]
  },
  {
   "cell_type": "markdown",
   "id": "77ee8b7a-538d-4a85-9e15-c5fe783f4e02",
   "metadata": {},
   "source": [
    "## Create all faces img"
   ]
  },
  {
   "cell_type": "code",
   "execution_count": 30,
   "id": "ac909603",
   "metadata": {},
   "outputs": [],
   "source": [
    "def extract_faces_parallel(face_index_img_file_path, model_emb_file_path, extraction):\n",
    "    global fixed_dim, cv2, emb_folder_mapping\n",
    "    if os.path.exists(face_index_img_file_path) == False:\n",
    "        cv2.imwrite(face_index_img_file_path, extraction)\n",
    "        print(f\"Created face detection: {face_index_img_file_path}\")\n",
    "    else:\n",
    "        print(f\"{face_index_img_file_path} exists\")"
   ]
  },
  {
   "cell_type": "code",
   "execution_count": 31,
   "id": "f5b01013",
   "metadata": {},
   "outputs": [],
   "source": [
    "def extract_faces_emb(source_folder: str, des_img_faces: str):\n",
    "    global faces_folder, detect_faces_folder\n",
    "    # Traverse to all files and subfolder in source folder\n",
    "    for root, _, files in os.walk(source_folder):\n",
    "        with concurrent.futures.ThreadPoolExecutor(max_workers=workers) as executor:\n",
    "            for file in files:\n",
    "                # Construct source file path\n",
    "                source_file_path = os.path.join(root, file)\n",
    "                face_img_file_path = create_file_path(source_file_path, source_folder, des_img_faces).replace(\".pkl\", \".jpg\")\n",
    "                if source_file_path.lower().endswith('.pkl'):\n",
    "                    with open(source_file_path, \"rb\") as f:\n",
    "                        face_index = 1\n",
    "                        extractions = pickle.load(f)\n",
    "                        for extraction in extractions:\n",
    "                            face_index_img_file_path = face_img_file_path.replace(\".jpg\", f\"-face_{face_index}.jpg\")\n",
    "                            executor.submit(extract_faces_parallel, face_index_img_file_path, source_file_path, extraction)\n",
    "                            # extract_emb_and_faces_parallel(face_index_img_file_path, des_img_faces, des_em_folder, source_file_path, model, extraction)\n",
    "                            face_index += 1"
   ]
  },
  {
   "cell_type": "code",
   "execution_count": 32,
   "id": "687420ea-3d65-445f-ad60-1b4557fcc5b5",
   "metadata": {
    "editable": true,
    "slideshow": {
     "slide_type": ""
    },
    "tags": []
   },
   "outputs": [],
   "source": [
    "def create_faces_emb():\n",
    "    global movie, detect_faces_folder, faces_folder\n",
    "    source_det_faces = f\"../{detect_faces_folder}/{movie}\"\n",
    "    # des_emb_faces = f\"../{faces_emb_folder}/{movie}\"\n",
    "    des_img_faces = f\"../{faces_folder}/{movie}\"\n",
    "    extract_faces_emb(source_det_faces, des_img_faces)"
   ]
  },
  {
   "cell_type": "code",
   "execution_count": null,
   "id": "89c29ef1",
   "metadata": {},
   "outputs": [],
   "source": [
    "create_faces_emb()"
   ]
  },
  {
   "cell_type": "code",
   "execution_count": null,
   "id": "eed4a892",
   "metadata": {},
   "outputs": [],
   "source": [
    "print(\"Done\")"
   ]
  },
  {
   "cell_type": "code",
   "execution_count": null,
   "id": "4e3757df",
   "metadata": {
    "scrolled": true
   },
   "outputs": [],
   "source": [
    "# global movie\n",
    "# source_det_faces = f\"../{detect_faces_folder}/{movie}\"\n",
    "# des_emb_faces = f\"../{faces_emb_folder}/{movie}\"\n",
    "# des_img_faces = f\"../{faces_folder}/{movie}\"\n",
    "# extract_faces_emb(source_det_faces, des_emb_faces, des_img_faces , \"VGG-Face\")"
   ]
  }
 ],
 "metadata": {
  "kernelspec": {
   "display_name": "Python 3 (ipykernel)",
   "language": "python",
   "name": "python3"
  }
 },
 "nbformat": 4,
 "nbformat_minor": 5
}
