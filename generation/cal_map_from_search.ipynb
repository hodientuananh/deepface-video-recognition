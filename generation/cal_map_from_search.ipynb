{
 "cells": [
  {
   "cell_type": "code",
   "execution_count": 4,
   "metadata": {},
   "outputs": [
    {
     "name": "stdout",
     "output_type": "stream",
     "text": [
      "/mnt/d/deepface-video-recognition/search\n"
     ]
    }
   ],
   "source": [
    "import os\n",
    "\n",
    "# Set the current working directory\n",
    "os.chdir('/mnt/d/deepface-video-recognition/search')\n",
    "\n",
    "# Verify the current working directory\n",
    "print(os.getcwd())"
   ]
  },
  {
   "cell_type": "code",
   "execution_count": 12,
   "metadata": {},
   "outputs": [
    {
     "name": "stdout",
     "output_type": "stream",
     "text": [
      "{'Memphis-3-shot_4': 17.30431365966797, 'Memphis-47-shot_0': 24.390247344970703, 'Memphis-18-shot_2': 53.57520147470328, 'Memphis-4-shot_1': 53.594757080078125, 'Memphis-47-shot_2': 57.17732524871826, 'Memphis-14-shot_0': 58.811601638793945, 'Memphis-43-shot_10': 60.818996662996256, 'Memphis-47-shot_3': 68.53796291351318, 'Memphis-32-shot_5': 68.66014099121094, 'Memphis-22-shot_3': 73.00570678710938, 'Memphis-34-shot_0': 77.8763656616211, 'Memphis-24-shot_2': 78.30479792002085, 'Memphis-36-shot_1': 81.46477061051588, 'Memphis-40-shot_3': 84.08184051513672, 'Memphis-37-shot_1': 87.21631368001302, 'Memphis-42-shot_0': 88.4801209548424, 'Memphis-28-shot_4': 91.22839464460101, 'Memphis-45-shot_2': 92.95738067626954, 'Memphis-22-shot_2': 94.57235071865412, 'Memphis-38-shot_3': 95.02019586318579, 'Memphis-7-shot_2': 95.31100305460266, 'Memphis-28-shot_8': 96.83937225341796, 'Memphis-23-shot_2': 97.5374799044627, 'Memphis-36-shot_5': 101.24919700622559, 'Memphis-8-shot_0': 103.90770308176677, 'Memphis-37-shot_6': 107.48954634232955, 'Memphis-46-shot_0': 107.9255142211914, 'Memphis-36-shot_6': 108.58085250854492, 'Memphis-28-shot_5': 108.86130741664341, 'Memphis-16-shot_1': 111.48339080810547, 'Memphis-35-shot_3': 113.21166801452637, 'Memphis-27-shot_3': 114.39755410414476, 'Memphis-36-shot_3': 117.0175877323857, 'Memphis-25-shot_6': 118.93012873331706, 'Memphis-44-shot_7': 119.79562759399414, 'Memphis-36-shot_2': 121.0657204950557, 'Memphis-30-shot_2': 125.5988057454427, 'Memphis-39-shot_6': 127.4025484720866, 'Memphis-25-shot_3': 128.71182696024576, 'Memphis-45-shot_0': 132.31622314453125, 'Memphis-40-shot_1': 132.9953842163086, 'Memphis-43-shot_1': 134.3058848324276, 'Memphis-39-shot_5': 138.16299438476562, 'Memphis-25-shot_5': 140.46566772460938, 'Memphis-2-shot_3': 140.5676442024904, 'Memphis-35-shot_2': 140.5890127328726, 'Memphis-18-shot_0': 141.83380508422852, 'Memphis-7-shot_1': 141.86702107681947, 'Memphis-3-shot_0': 142.7615458369255, 'Memphis-44-shot_2': 143.13433016263522, 'Memphis-21-shot_0': 143.82755602399507, 'Memphis-9-shot_0': 146.01400756835938, 'Memphis-39-shot_1': 159.19042068719864, 'Memphis-2-shot_5': 169.15595862017227, 'Memphis-25-shot_2': 176.7704388151566, 'Memphis-46-shot_2': 180.8717303276062, 'Memphis-43-shot_6': 214.84099330939353, 'Memphis-13-shot_2': 219.4093044127027, 'Memphis-16-shot_4': 226.9068096143504, 'Memphis-41-shot_1': 228.86159121500302, 'Memphis-18-shot_6': 236.88809299637686, 'Memphis-37-shot_8': 237.01427738483136, 'Memphis-16-shot_6': 237.7970041567629, 'Memphis-16-shot_8': 252.97481733560562, 'Memphis-35-shot_4': 253.42459606004485, 'Memphis-37-shot_7': 254.52815862857935, 'Memphis-34-shot_4': 256.3321535024378, 'Memphis-31-shot_0': 257.2298195183277, 'Memphis-42-shot_6': 258.71525939215314, 'Memphis-29-shot_1': 262.408383499555, 'Memphis-36-shot_8': 263.1734795584565, 'Memphis-1-shot_2': 264.77668832499404, 'Memphis-30-shot_3': 269.7293225429124, 'Memphis-35-shot_0': 271.5513376576998, 'Memphis-11-shot_4': 273.01368479503617, 'Memphis-24-shot_1': 273.90098190784454, 'Memphis-30-shot_0': 274.9509152372678, 'Memphis-44-shot_4': 275.5665812106975, 'Memphis-46-shot_6': 285.0553771654765, 'Memphis-17-shot_0': 285.0599493056305, 'Memphis-16-shot_2': 296.38332912092625, 'Memphis-11-shot_5': 296.5739894375872, 'Memphis-28-shot_1': 300.41383208307354, 'Memphis-18-shot_3': 301.9086932179618, 'Memphis-11-shot_2': 301.9703635340152, 'Memphis-16-shot_5': 303.9601214670696, 'Memphis-43-shot_5': 304.8064684944768, 'Memphis-26-shot_3': 306.7749993518598, 'Memphis-14-shot_1': 307.4459621480231, 'Memphis-39-shot_7': 307.80960606018704, 'Memphis-37-shot_2': 307.9043883691231, 'Memphis-7-shot_0': 308.8344731670253, 'Memphis-38-shot_1': 309.65317157296573, 'Memphis-15-shot_1': 311.45227898189, 'Memphis-22-shot_1': 312.4913501577957, 'Memphis-11-shot_1': 312.8830616606798, 'Memphis-29-shot_2': 313.1108532825252, 'Memphis-42-shot_5': 314.86258974075315, 'Memphis-42-shot_3': 317.26851887362346, 'Memphis-11-shot_0': 318.1562282629013, 'Memphis-26-shot_4': 318.39660898276736, 'Memphis-33-shot_2': 318.8179278173408, 'Memphis-2-shot_2': 318.8437332459118, 'Memphis-10-shot_4': 321.2419783321779, 'Memphis-18-shot_4': 321.89089541191737, 'Memphis-14-shot_2': 322.55019308114476, 'Memphis-1-shot_1': 323.5625049215375, 'Memphis-26-shot_2': 323.5721819985516, 'Memphis-37-shot_3': 326.2174270258748, 'Memphis-41-shot_0': 327.3517250740126, 'Memphis-28-shot_3': 327.5440148293972, 'Memphis-12-shot_2': 327.82305087573127, 'Memphis-28-shot_7': 327.8352690615654, 'Memphis-28-shot_6': 328.5485903399724, 'Memphis-40-shot_0': 328.8061088085175, 'Memphis-39-shot_4': 329.3217427159699, 'Memphis-2-shot_1': 329.9722742798428, 'Memphis-7-shot_3': 331.11219614176525, 'Memphis-34-shot_2': 333.1955012704404, 'Memphis-27-shot_2': 334.60197618084567, 'Memphis-37-shot_5': 334.75211450133634, 'Memphis-28-shot_11': 336.55018577485714, 'Memphis-33-shot_0': 338.0693103461103, 'Memphis-35-shot_1': 340.71163396624956, 'Memphis-11-shot_6': 341.7307312237281, 'Memphis-4-shot_0': 341.92237920671886, 'Memphis-2-shot_4': 342.15431133777867, 'Memphis-5-shot_1': 342.5989691622117, 'Memphis-15-shot_0': 342.7686878204346, 'Memphis-28-shot_2': 344.2225882165211, 'Memphis-28-shot_9': 345.16506345992866, 'Memphis-6-shot_0': 345.99521365761757, 'Memphis-10-shot_2': 348.9751018412456, 'Memphis-31-shot_3': 349.7141350492531, 'Memphis-16-shot_3': 350.8003725520114, 'Memphis-47-shot_1': 351.6127777447303, 'Memphis-13-shot_3': 352.96291669374034, 'Memphis-36-shot_7': 354.35200183058896, 'Memphis-12-shot_3': 355.69457172915554, 'Memphis-3-shot_1': 358.45811192454966, 'Memphis-32-shot_2': 359.2546076649501, 'Memphis-33-shot_1': 361.9696002355937, 'Memphis-10-shot_3': 362.3755402230712, 'Memphis-46-shot_3': 365.1224654655199, 'Memphis-34-shot_3': 366.03889362941874, 'Memphis-5-shot_3': 369.3834118373759, 'Memphis-28-shot_10': 372.12470347589726, 'Memphis-32-shot_1': 375.1960624351221, 'Memphis-34-shot_1': 376.7537780776987, 'Memphis-39-shot_2': 377.1698712807197, 'Memphis-34-shot_5': 378.67408034205437, 'Memphis-5-shot_0': 379.62928564842133, 'Memphis-47-shot_4': 380.3060093522072, 'Memphis-40-shot_2': 387.72468547920386, 'Memphis-46-shot_1': 387.9394930656756, 'Memphis-5-shot_2': 391.5663107126588, 'Memphis-43-shot_0': 393.54127287864685, 'Memphis-31-shot_4': 393.96550274266826, 'Memphis-3-shot_2': 394.32859244375004, 'Memphis-3-shot_3': 396.0064475441972, 'Memphis-5-shot_4': 397.03937771203147, 'Memphis-31-shot_2': 397.93553735695633, 'Memphis-32-shot_3': 400.1879558444023, 'Memphis-17-shot_1': 400.1880264874452, 'Memphis-38-shot_2': 402.42467933893204, 'Memphis-46-shot_5': 404.1461825609207, 'Memphis-30-shot_1': 411.6969067156315, 'Memphis-32-shot_4': 412.0797437581251, 'Memphis-6-shot_1': 413.95079420831865, 'Memphis-31-shot_5': 415.4848370728669, 'Memphis-26-shot_5': 418.1674687652588, 'Memphis-27-shot_0': 418.6921187788248, 'Memphis-28-shot_0': 429.55832529067993, 'Memphis-44-shot_5': 441.49388035138446, 'Memphis-17-shot_2': 443.23412854575633, 'Memphis-26-shot_1': 445.8310272246599, 'Memphis-45-shot_1': 447.34285081961, 'Memphis-37-shot_0': 450.1223445236683, 'Memphis-42-shot_4': 465.9065943388712, 'Memphis-46-shot_4': 466.7730973247508, 'Memphis-44-shot_1': 469.20299880206585, 'Memphis-20-shot_1': 474.6691906391677, 'Memphis-19-shot_2': 488.1827578573692, 'Memphis-9-shot_1': 510.006380289793, 'Memphis-41-shot_6': 510.43551528453827, 'Memphis-41-shot_2': 524.6031970381737, 'Memphis-25-shot_4': 532.9198030669514, 'Memphis-39-shot_3': 539.6099427223205, 'Memphis-31-shot_1': 541.3603011022011, 'Memphis-10-shot_5': 542.3601536254088, 'Memphis-40-shot_4': 547.9974012374878, 'Memphis-42-shot_2': 559.3413765728474, 'Memphis-9-shot_2': 3.313275480427781e+38}\n"
     ]
    }
   ],
   "source": [
    "import pickle\n",
    "\n",
    "# Path to the pickle file\n",
    "file_path = '/mnt/d/deepface-video-recognition/search/mov_Memphis_char_willis/det_retinaface_emb_ArcFace_top_10000.pkl'\n",
    "\n",
    "# Read data from the pickle file\n",
    "with open(file_path, 'rb') as file:\n",
    "    data = pickle.load(file)\n",
    "\n",
    "# Display the data\n",
    "print(data)"
   ]
  }
 ],
 "metadata": {
  "kernelspec": {
   "display_name": "Python 3 (ipykernel)",
   "language": "python",
   "name": "python3"
  },
  "language_info": {
   "codemirror_mode": {
    "name": "ipython",
    "version": 3
   },
   "file_extension": ".py",
   "mimetype": "text/x-python",
   "name": "python",
   "nbconvert_exporter": "python",
   "pygments_lexer": "ipython3",
   "version": "3.11.9"
  }
 },
 "nbformat": 4,
 "nbformat_minor": 2
}
