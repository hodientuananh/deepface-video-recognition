{
 "cells": [
  {
   "cell_type": "markdown",
   "id": "404ecaf7-04de-40db-9dd5-0f8d16975fe8",
   "metadata": {},
   "source": [
    "# Install Libs"
   ]
  },
  {
   "cell_type": "markdown",
   "id": "19955991-29af-4628-9037-0a05ac5c40ae",
   "metadata": {},
   "source": [
    "pip install faiss-cpu"
   ]
  },
  {
   "cell_type": "code",
   "execution_count": null,
   "id": "a4328df9-5929-4b47-b531-81cdef27d1c6",
   "metadata": {},
   "outputs": [],
   "source": [
    "pip install tensorflow==2.14.0"
   ]
  },
  {
   "cell_type": "code",
   "execution_count": null,
   "id": "a3da4fb4-8bc6-41a3-8297-5079ff6c0d01",
   "metadata": {},
   "outputs": [],
   "source": [
    "pip install tf_keras"
   ]
  },
  {
   "cell_type": "code",
   "execution_count": null,
   "id": "8252153e-3cd5-438c-8ddc-2d54d02db71a",
   "metadata": {},
   "outputs": [],
   "source": [
    "pip install deepface"
   ]
  },
  {
   "cell_type": "code",
   "execution_count": null,
   "id": "d3b989c4-eaf3-46e4-937f-51cd84599da5",
   "metadata": {},
   "outputs": [],
   "source": [
    "pip install facenet-pytorch"
   ]
  }
 ],
 "metadata": {
  "kernelspec": {
   "display_name": "Python 3 (ipykernel)",
   "language": "python",
   "name": "python3"
  },
  "language_info": {
   "codemirror_mode": {
    "name": "ipython",
    "version": 3
   },
   "file_extension": ".py",
   "mimetype": "text/x-python",
   "name": "python",
   "nbconvert_exporter": "python",
   "pygments_lexer": "ipython3",
   "version": "3.11.9"
  }
 },
 "nbformat": 4,
 "nbformat_minor": 5
}
